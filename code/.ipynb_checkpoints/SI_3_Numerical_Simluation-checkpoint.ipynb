{
 "cells": [
  {
   "cell_type": "code",
   "execution_count": 1,
   "metadata": {},
   "outputs": [],
   "source": [
    "import numpy as np\n",
    "import pandas as pd\n",
    "from copy import deepcopy\n",
    "import random\n",
    "import pickle\n",
    "import matplotlib.pyplot as plt\n",
    "from scipy.ndimage.filters import gaussian_filter\n",
    "from scipy.stats import loglaplace, lognorm, laplace, norm\n",
    "import seaborn as sns\n",
    "import warnings\n",
    "warnings.filterwarnings('ignore')\n",
    "\n",
    "from scipy.special import erf\n",
    "warnings.filterwarnings('ignore')\n",
    "sns.set(style=\"white\", context=\"talk\")\n",
    "np.random.seed(42)"
   ]
  },
  {
   "cell_type": "markdown",
   "metadata": {},
   "source": [
    "## S3.1 Numerical Computation of $\\Omega$"
   ]
  },
  {
   "cell_type": "code",
   "execution_count": 2,
   "metadata": {},
   "outputs": [],
   "source": [
    "θ = 2    # true state of the world\n",
    "μ = np.linspace(-3,3,31)\n",
    "σ = np.logspace(-1,1,21)\n",
    "n_samples = 5000\n",
    "ω=1/3\n",
    "n = 50"
   ]
  },
  {
   "cell_type": "markdown",
   "metadata": {},
   "source": [
    "### Function Definitions"
   ]
  },
  {
   "cell_type": "code",
   "execution_count": 3,
   "metadata": {},
   "outputs": [],
   "source": [
    "def signal_lognormal(n, m=1e-3, a = 1.0):\n",
    "    # sample bias for each agent from a lognormal distribution\n",
    "    # μ_normal is the mean of the underlying normal distribution. \n",
    "    # This function returns lognormal distributions that have a median m \n",
    "    # and variance a\n",
    "    \n",
    "    s = np.random.lognormal(mean= np.log(θ) + m ,sigma = a,size=n)\n",
    "    return s\n",
    "\n",
    "def signal_normal(n,θ, m=1e-3, a = 1.0):\n",
    "    # sample bias for each agent from a lognormal distribution\n",
    "    # μ_normal is the mean of the underlying normal distribution. \n",
    "    # This function returns lognormal distributions that have a median m \n",
    "    # and variance a\n",
    "    \n",
    "    s = np.abs(np.random.normal(loc=θ*np.exp(m) ,scale = a,size=n))\n",
    "    return s\n",
    "\n",
    "def signal_pareto(n, m=1e-3, a = 1.0):\n",
    "    # sample bias for each agent from a lognormal distribution\n",
    "    # μ_normal is the mean of the underlying normal distribution. \n",
    "    # This function returns lognormal distributions that have a median m \n",
    "    # and variance a\n",
    "    \n",
    "    s = (np.random.pareto(1/a, n) + 1) * (θ*np.exp(m))\n",
    "    return s\n",
    "\n",
    "def signal_loglaplace(n, θ = 1.0, μ = 1.0, σ = 1):\n",
    "    # sample bias for each agent from a lognormal distribution\n",
    "    # μ_normal is the mean of the underlying normal distribution. \n",
    "    # This function returns lognormal distributions that have a median m \n",
    "    # and variance a\n",
    "    \n",
    "    s = np.exp(laplace.rvs(loc=np.log(θ) + μ,scale=σ,size=n))\n",
    "    return s\n",
    "\n",
    "# small w as defined in the paper for degroot\n",
    "def w_star(n):\n",
    "    w = 2*np.ones(n)/(3*n - 2)\n",
    "    w[0] = n/(3*n - 2)\n",
    "    return w\n",
    "\n",
    "#general ω > 0\n",
    "def w_center(n):\n",
    "    w = (1-ω)*np.ones(n)/n\n",
    "    w[0]+=ω\n",
    "    return w\n",
    "\n",
    "def w_cycle(n):\n",
    "    w = np.ones(n)/n\n",
    "    return w\n",
    "\n",
    "def plot_phase(mu,sigma,Omega,lines=True, save=False, title=None):\n",
    "    fig = plt.figure(figsize=(12,8))\n",
    "    ax = fig.add_subplot(111)\n",
    "    ax.set_yscale('log',basey=10)\n",
    "\n",
    "    ## The body of the plot\n",
    "    main_cs = ax.contourf(mu,sigma,Omega,levels=np.linspace(0,1,50),cmap='RdYlBu')\n",
    "\n",
    "    #the color bar\n",
    "    cbar = fig.colorbar(main_cs, ticks=np.linspace(0,1,5))\n",
    "\n",
    "    #add lines in the main body of the plot (the levels)\n",
    "    if lines:\n",
    "        lines_cs = ax.contour(mu,sigma,Omega,levels=[0, 0.25, 0.5, 0.75,1],colors=['k'])\n",
    "        #lables on the plot itself\n",
    "        ax.clabel(lines_cs,lines_cs.levels,inline=True,fmt=\"%1.2f\",fontsize=35)\n",
    "        #label the color bar\n",
    "        cbar.add_lines(lines_cs)\n",
    "        \n",
    "    cbar.ax.set_title(\"Ω\",fontsize=40)\n",
    "\n",
    "    ##Label the body of the plot\n",
    "    ax.set_xlabel(\"Systematic bias, μ\",fontsize=30)\n",
    "    ax.set_ylabel('Dispersion, σ',fontsize=30)\n",
    "\n",
    "    #ax.set_xlim(-2.99,2.99)\n",
    "    ax.set_ylim(0.1,10)\n",
    "    ax.tick_params(labelsize=30)\n",
    "\n",
    "    ax.set_yticks((0.1,1,10))\n",
    "    ax.set_yticklabels((0.1,1,10))\n",
    "\n",
    "    if save:\n",
    "        plt.savefig('./SI_phase_diagram_'+str(title)+'.pdf', bbox_inches='tight')\n",
    "        \n",
    "def plot_loss(mu,sigma,Omega, save=False, title=\"\"):\n",
    "    \n",
    "    levels = [0,0.25,0.5,0.75,1,1.25,1.5,1.75,2]\n",
    "    colors = [\"#D2F4FD\",\"#86E3FC\", \"#6EACE6\", \"#7A9CFE\", \n",
    "              \"#FDF1D2\", \"#FCDD86\", \"#C9B06B\", \"#7D7768\"\n",
    "             ]\n",
    "\n",
    "    fig = plt.figure(figsize=(12,8))\n",
    "    ax = fig.add_subplot(111)\n",
    "    ax.set_yscale('log',basey=10)\n",
    "\n",
    "    ## The body of the plot\n",
    "    main_cs = ax.contourf(μμ,σσ,data,levels=levels,colors=colors)\n",
    "\n",
    "    #the color bar\n",
    "    cbar = fig.colorbar(main_cs)\n",
    "\n",
    "\n",
    "    ##Label the body of the plot\n",
    "    ax.set_xlabel(\"Systematic bias, μ\",fontsize=40)\n",
    "    ax.set_ylabel('Dispersion, σ',fontsize=40)\n",
    "    ax.set_title(title,fontsize=40)\n",
    "\n",
    "    #ax.set_xlim(-2.99,2.99)\n",
    "    ax.set_ylim(0.1,10)\n",
    "    ax.tick_params(labelsize=35)\n",
    "\n",
    "    ax.set_yticks((0.1,1,10))\n",
    "    ax.set_yticklabels((0.1,1,10))\n",
    "\n",
    "    if save:\n",
    "        plt.savefig('./SI_loss_diagram_'+str(title.replace('/', '').replace('$',''))+'.pdf', bbox_inches='tight')"
   ]
  },
  {
   "cell_type": "markdown",
   "metadata": {},
   "source": [
    "### $\\Omega$ simulation for gaussian"
   ]
  },
  {
   "cell_type": "code",
   "execution_count": 4,
   "metadata": {},
   "outputs": [],
   "source": [
    "##This is low resolution version of the main text Figure 2\n",
    "\n",
    "Ω = np.zeros([len(μ),len(σ)])\n",
    "\n",
    "w_center_ = w_center(n)\n",
    "w_cycle_ = w_cycle(n)\n",
    "\n",
    "for idx_n,μn in enumerate(μ):\n",
    "    for idx_α,_α in enumerate(σ):\n",
    "        for i in range(n_samples):\n",
    "            s = signal_normal(n,θ,m=μn,a=_α)\n",
    "\n",
    "            center_MSE =  ((w_center_@s) - θ)**2\n",
    "            cycle_MSE = ((w_cycle_@s) - θ)**2\n",
    "            \n",
    "            if center_MSE < cycle_MSE:\n",
    "                Ω[idx_n,idx_α] += 1/n_samples\n",
    "                \n"
   ]
  },
  {
   "cell_type": "code",
   "execution_count": 5,
   "metadata": {},
   "outputs": [
    {
     "data": {
      "image/png": "[encoded data removed]",
      "text/plain": [
       "<Figure size 864x576 with 2 Axes>"
      ]
     },
     "metadata": {},
     "output_type": "display_data"
    }
   ],
   "source": [
    "# This is an illustrative coarsed figure. The high resolution one is in \"Fig2.Linking task features and network structure.ipynb\"\n",
    "μμ, σσ = np.meshgrid(μ, σ)\n",
    "sigma = 1\n",
    "data = gaussian_filter(Ω.T, sigma)\n",
    "plot_phase(μμ,σσ,data,lines=False,save=True,title=\"folded_gaussian\")\n"
   ]
  },
  {
   "cell_type": "markdown",
   "metadata": {},
   "source": [
    "### $\\Omega$ simulation for log normal"
   ]
  },
  {
   "cell_type": "code",
   "execution_count": 6,
   "metadata": {},
   "outputs": [
    {
     "name": "stderr",
     "output_type": "stream",
     "text": [
      "ERROR:root:Internal Python error in the inspect module.\n",
      "Below is the traceback from this internal error.\n",
      "\n"
     ]
    },
    {
     "name": "stdout",
     "output_type": "stream",
     "text": [
      "Traceback (most recent call last):\n",
      "  File \"/Users/amaatouq/opt/anaconda3/lib/python3.7/site-packages/IPython/core/interactiveshell.py\", line 3331, in run_code\n",
      "    exec(code_obj, self.user_global_ns, self.user_ns)\n",
      "  File \"<ipython-input-6-334bbb1fa1d6>\", line 10, in <module>\n",
      "    s = signal_lognormal(n,m=μn,a=_α)\n",
      "  File \"<ipython-input-3-93f59ac8c840>\", line 7, in signal_lognormal\n",
      "    s = np.random.lognormal(mean= np.log(θ) + m ,sigma = a,size=n)\n",
      "KeyboardInterrupt\n",
      "\n",
      "During handling of the above exception, another exception occurred:\n",
      "\n",
      "Traceback (most recent call last):\n",
      "  File \"/Users/amaatouq/opt/anaconda3/lib/python3.7/site-packages/IPython/core/interactiveshell.py\", line 2044, in showtraceback\n",
      "    stb = value._render_traceback_()\n",
      "AttributeError: 'KeyboardInterrupt' object has no attribute '_render_traceback_'\n",
      "\n",
      "During handling of the above exception, another exception occurred:\n",
      "\n",
      "Traceback (most recent call last):\n",
      "  File \"/Users/amaatouq/opt/anaconda3/lib/python3.7/site-packages/IPython/core/ultratb.py\", line 1151, in get_records\n",
      "    return _fixed_getinnerframes(etb, number_of_lines_of_context, tb_offset)\n",
      "  File \"/Users/amaatouq/opt/anaconda3/lib/python3.7/site-packages/IPython/core/ultratb.py\", line 319, in wrapped\n",
      "    return f(*args, **kwargs)\n",
      "  File \"/Users/amaatouq/opt/anaconda3/lib/python3.7/site-packages/IPython/core/ultratb.py\", line 353, in _fixed_getinnerframes\n",
      "    records = fix_frame_records_filenames(inspect.getinnerframes(etb, context))\n",
      "  File \"/Users/amaatouq/opt/anaconda3/lib/python3.7/inspect.py\", line 1502, in getinnerframes\n",
      "    frameinfo = (tb.tb_frame,) + getframeinfo(tb, context)\n",
      "  File \"/Users/amaatouq/opt/anaconda3/lib/python3.7/inspect.py\", line 1460, in getframeinfo\n",
      "    filename = getsourcefile(frame) or getfile(frame)\n",
      "  File \"/Users/amaatouq/opt/anaconda3/lib/python3.7/inspect.py\", line 696, in getsourcefile\n",
      "    if getattr(getmodule(object, filename), '__loader__', None) is not None:\n",
      "  File \"/Users/amaatouq/opt/anaconda3/lib/python3.7/inspect.py\", line 739, in getmodule\n",
      "    f = getabsfile(module)\n",
      "  File \"/Users/amaatouq/opt/anaconda3/lib/python3.7/inspect.py\", line 708, in getabsfile\n",
      "    _filename = getsourcefile(object) or getfile(object)\n",
      "  File \"/Users/amaatouq/opt/anaconda3/lib/python3.7/inspect.py\", line 693, in getsourcefile\n",
      "    if os.path.exists(filename):\n",
      "  File \"/Users/amaatouq/opt/anaconda3/lib/python3.7/genericpath.py\", line 19, in exists\n",
      "    os.stat(path)\n",
      "KeyboardInterrupt\n"
     ]
    },
    {
     "ename": "KeyboardInterrupt",
     "evalue": "",
     "output_type": "error",
     "traceback": [
      "\u001b[0;31m---------------------------------------------------------------------------\u001b[0m"
     ]
    }
   ],
   "source": [
    "##This is low resolution version of the main text Figure 2\n",
    "Ω = np.zeros([len(μ),len(σ)])\n",
    "\n",
    "w_center_ = w_center(n)\n",
    "w_cycle_ = w_cycle(n)\n",
    "\n",
    "for idx_n,μn in enumerate(μ):\n",
    "    for idx_α,_α in enumerate(σ):\n",
    "        for i in range(n_samples):\n",
    "            s = signal_lognormal(n,m=μn,a=_α)\n",
    "\n",
    "            center_MSE =  ((w_center_@s) - θ)**2\n",
    "            cycle_MSE = ((w_cycle_@s) - θ)**2\n",
    "            \n",
    "            if center_MSE < cycle_MSE:\n",
    "                Ω[idx_n,idx_α] += 1/n_samples\n",
    "\n"
   ]
  },
  {
   "cell_type": "code",
   "execution_count": null,
   "metadata": {},
   "outputs": [],
   "source": [
    "# This is an illustrative coarsed figure. The high resolution one is in \"Fig2.Linking task features and network structure.ipynb\"\n",
    "μμ, σσ = np.meshgrid(μ, σ)\n",
    "sigma = 1\n",
    "data = gaussian_filter(Ω.T, sigma)\n",
    "plot_phase(μμ,σσ,data,lines=False,save=True,title=\"log-normal\")\n"
   ]
  },
  {
   "cell_type": "markdown",
   "metadata": {},
   "source": [
    "### $\\Omega$ simulation for loglaplace"
   ]
  },
  {
   "cell_type": "code",
   "execution_count": null,
   "metadata": {},
   "outputs": [],
   "source": [
    "##This is low resolution version of the main text Figure 2\n",
    "\n",
    "Ω = np.zeros([len(μ),len(σ)])\n",
    "\n",
    "w_center_ = w_center(n)\n",
    "w_cycle_ = w_cycle(n)\n",
    "\n",
    "for idx_n,μn in enumerate(μ):\n",
    "    for idx_α,_α in enumerate(σ):\n",
    "        for i in range(n_samples):\n",
    "            s = signal_loglaplace(n,θ = θ,μ=μn,σ=_α)\n",
    "\n",
    "            center_MSE =  ((w_center_@s) - θ)**2\n",
    "            cycle_MSE = ((w_cycle_@s) - θ)**2\n",
    "            \n",
    "            if center_MSE < cycle_MSE:\n",
    "                Ω[idx_n,idx_α] += 1/n_samples\n"
   ]
  },
  {
   "cell_type": "code",
   "execution_count": null,
   "metadata": {},
   "outputs": [],
   "source": [
    "# This is an illustrative coarsed figure. The high resolution one is in \"Fig2.Linking task features and network structure.ipynb\"\n",
    "μμ, σσ = np.meshgrid(μ, σ)\n",
    "sigma = 1 # as we have less samples, we use less smothiening than in Fig2\n",
    "data = gaussian_filter(Ω.T, sigma)\n",
    "plot_phase(μμ,σσ,data,lines=False,save=True,title=\"log-laplace\")\n"
   ]
  },
  {
   "cell_type": "markdown",
   "metadata": {},
   "source": [
    "### $\\Omega$ simulation for power law"
   ]
  },
  {
   "cell_type": "code",
   "execution_count": null,
   "metadata": {},
   "outputs": [],
   "source": [
    "##This is low resolution version of the main text Figure 2\n",
    "\n",
    "Ω = np.zeros([len(μ),len(σ)])\n",
    "\n",
    "w_center_ = w_center(n)\n",
    "w_cycle_ = w_cycle(n)\n",
    "\n",
    "for idx_n,μn in enumerate(μ):\n",
    "    for idx_α,_α in enumerate(σ):\n",
    "        for i in range(n_samples):\n",
    "            s = signal_pareto(n,m=μn,a=_α)\n",
    "\n",
    "            center_MSE =  ((w_center_@s) - θ)**2\n",
    "            cycle_MSE = ((w_cycle_@s) - θ)**2\n",
    "            \n",
    "            if center_MSE < cycle_MSE:\n",
    "                Ω[idx_n,idx_α] += 1/n_samples\n"
   ]
  },
  {
   "cell_type": "code",
   "execution_count": null,
   "metadata": {
    "scrolled": false
   },
   "outputs": [],
   "source": [
    "# This is an illustrative coarsed figure. The high resolution one is in \"Fig2.Linking task features and network structure.ipynb\"\n",
    "μμ, σσ = np.meshgrid(μ, σ)\n",
    "sigma = 1 # as we have less samples, we use less smothiening than in Fig2\n",
    "data = gaussian_filter(Ω.T, sigma)\n",
    "plot_phase(μμ,σσ,data,lines=False,save=True,title=\"pareto\")\n"
   ]
  },
  {
   "cell_type": "markdown",
   "metadata": {},
   "source": [
    "### Loss Functions"
   ]
  },
  {
   "cell_type": "code",
   "execution_count": null,
   "metadata": {},
   "outputs": [],
   "source": [
    "np.random.seed(42)"
   ]
  },
  {
   "cell_type": "code",
   "execution_count": null,
   "metadata": {},
   "outputs": [],
   "source": [
    "error = np.linspace(-5,5,101)\n",
    "\n",
    "fig = plt.figure(figsize=(8*3,5))\n",
    "ax = fig.add_subplot(111)\n",
    "\n",
    "ax.plot(error, np.abs(error), linestyle='-', linewidth=8, label='MAE')\n",
    "ax.plot(error, np.abs(error)**2, linestyle='--', linewidth=8,label='MSE')\n",
    "ax.plot(error, np.sqrt(np.abs(error)), linestyle='-.',linewidth=8,label='MSRE')\n",
    "ax.set_ylim(-0.05,6)\n",
    "ax.set_xlim(-5,5)\n",
    "ax.set_xlabel(r\"$x-\\theta$\",fontsize=35)\n",
    "ax.set_ylabel(\"Loss\",fontsize=35)\n",
    "\n",
    "ax.tick_params(labelsize=25)"
   ]
  },
  {
   "cell_type": "markdown",
   "metadata": {},
   "source": [
    "### Mean Square Error"
   ]
  },
  {
   "cell_type": "code",
   "execution_count": null,
   "metadata": {},
   "outputs": [],
   "source": [
    "MSE_center = np.zeros([len(μ),len(σ)])\n",
    "MSE_cycle = np.zeros([len(μ),len(σ)])\n",
    "\n",
    "\n",
    "w_center_ = w_center(n)\n",
    "w_cycle_ = w_cycle(n)\n",
    "\n",
    "for idx_n,μn in enumerate(μ):\n",
    "    for idx_α,_α in enumerate(σ):\n",
    "        for i in range(n_samples):\n",
    "            s = signal_lognormal(n,m=μn,a=_α)\n",
    "\n",
    "            center_MSE =  ((w_center_@s) - θ)**2\n",
    "            cycle_MSE = ((w_cycle_@s) - θ)**2\n",
    "            \n",
    "            MSE_center[idx_n,idx_α] += center_MSE/n_samples\n",
    "            MSE_cycle[idx_n,idx_α] += cycle_MSE/n_samples"
   ]
  },
  {
   "cell_type": "code",
   "execution_count": null,
   "metadata": {},
   "outputs": [],
   "source": [
    "# Plot\n",
    "sigma = 3\n",
    "data = gaussian_filter(MSE_cycle.T/MSE_center.T, sigma)\n",
    "μμ, σσ = np.meshgrid(μ, σ)\n",
    "\n",
    "plot_loss(μμ, σσ ,data,save=True,title=r'$MSE_{o}/MSE_{*}$')"
   ]
  },
  {
   "cell_type": "markdown",
   "metadata": {},
   "source": [
    "### Mean Absolute Error"
   ]
  },
  {
   "cell_type": "code",
   "execution_count": null,
   "metadata": {},
   "outputs": [],
   "source": [
    "\n",
    "MAE_center = np.zeros([len(μ),len(σ)])\n",
    "MAE_cycle = np.zeros([len(μ),len(σ)])\n",
    "\n",
    "w_center_ = w_center(n)\n",
    "w_cycle_ = w_cycle(n)\n",
    "\n",
    "for idx_n,μn in enumerate(μ):\n",
    "    for idx_α,_α in enumerate(σ):\n",
    "        for i in range(n_samples):\n",
    "            s = signal_lognormal(n,m=μn,a=_α)\n",
    "\n",
    "            center_MAE =  np.abs((w_center_@s) - θ)\n",
    "            cycle_MAE = np.abs((w_cycle_@s) - θ)\n",
    "            \n",
    "            MAE_center[idx_n,idx_α] += center_MAE/n_samples\n",
    "            MAE_cycle[idx_n,idx_α] += cycle_MAE/n_samples\n"
   ]
  },
  {
   "cell_type": "code",
   "execution_count": null,
   "metadata": {},
   "outputs": [],
   "source": [
    "# Plot\n",
    "sigma = 3\n",
    "data = gaussian_filter(MAE_cycle.T/MAE_center.T, sigma)\n",
    "μμ, σσ = np.meshgrid(μ, σ)\n",
    "\n",
    "plot_loss(μμ, σσ ,data,save=True,title=r\"$MAE_{o}/MAE_{*}$\")\n"
   ]
  },
  {
   "cell_type": "markdown",
   "metadata": {},
   "source": [
    "### Mean Square Root Error"
   ]
  },
  {
   "cell_type": "code",
   "execution_count": null,
   "metadata": {},
   "outputs": [],
   "source": [
    "MSRE_center = np.zeros([len(μ),len(σ)])\n",
    "MSRE_cycle = np.zeros([len(μ),len(σ)])\n",
    "\n",
    "w_center_ = w_center(n)\n",
    "w_cycle_ = w_cycle(n)\n",
    "\n",
    "for idx_n,μn in enumerate(μ):\n",
    "    for idx_α,_α in enumerate(σ):\n",
    "        for i in range(n_samples):\n",
    "            s = signal_lognormal(n,m=μn,a=_α)\n",
    "\n",
    "            center_MSRE =  np.sqrt(np.abs((w_center_@s) - θ))\n",
    "            cycle_MSRE = np.sqrt(np.abs((w_cycle_@s) - θ))\n",
    "            \n",
    "            MSRE_center[idx_n,idx_α] += center_MSRE/n_samples\n",
    "            MSRE_cycle[idx_n,idx_α] += cycle_MSRE/n_samples"
   ]
  },
  {
   "cell_type": "code",
   "execution_count": null,
   "metadata": {},
   "outputs": [],
   "source": [
    "# Plot\n",
    "sigma = 3\n",
    "data = gaussian_filter(MSRE_cycle.T/MSRE_center.T, sigma)\n",
    "μμ, σσ = np.meshgrid(μ, σ)\n",
    "\n",
    "plot_loss(μμ, σσ ,data,save=True,title=r\"$MSRE_{o}/MSRE_{*}$\")"
   ]
  },
  {
   "cell_type": "code",
   "execution_count": null,
   "metadata": {},
   "outputs": [],
   "source": []
  },
  {
   "cell_type": "code",
   "execution_count": null,
   "metadata": {},
   "outputs": [],
   "source": []
  },
  {
   "cell_type": "code",
   "execution_count": null,
   "metadata": {},
   "outputs": [],
   "source": []
  }
 ],
 "metadata": {
  "@webio": {
   "lastCommId": null,
   "lastKernelId": null
  },
  "kernelspec": {
   "display_name": "Python 3",
   "language": "python",
   "name": "python3"
  },
  "language_info": {
   "codemirror_mode": {
    "name": "ipython",
    "version": 3
   },
   "file_extension": ".py",
   "mimetype": "text/x-python",
   "name": "python",
   "nbconvert_exporter": "python",
   "pygments_lexer": "ipython3",
   "version": "3.7.6"
  },
  "latex_envs": {
   "LaTeX_envs_menu_present": true,
   "autoclose": true,
   "autocomplete": true,
   "bibliofile": "biblio.bib",
   "cite_by": "apalike",
   "current_citInitial": 1,
   "eqLabelWithNumbers": false,
   "eqNumInitial": 1,
   "hotkeys": {
    "equation": "Ctrl-E",
    "itemize": "Ctrl-I"
   },
   "labels_anchors": false,
   "latex_user_defs": false,
   "report_style_numbering": false,
   "user_envs_cfg": false
  }
 },
 "nbformat": 4,
 "nbformat_minor": 2
}
