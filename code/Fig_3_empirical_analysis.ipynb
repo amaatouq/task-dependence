{
 "cells": [
  {
   "cell_type": "code",
   "execution_count": 10,
   "metadata": {},
   "outputs": [],
   "source": [
    "import numpy as np\n",
    "import pickle\n",
    "import pandas as pd\n",
    "import matplotlib.pyplot as plt\n",
    "import seaborn as sns\n",
    "import random\n",
    "import matplotlib.cm as cm\n",
    "import matplotlib.ticker as ticker\n",
    "import seaborn as sns\n",
    "sns.set(style=\"white\", context=\"talk\")\n",
    "import warnings\n",
    "warnings.filterwarnings('ignore')\n",
    "from scipy.ndimage.filters import gaussian_filter\n",
    "from scipy.stats import norm,lognorm\n",
    "from scipy.stats import shapiro, normaltest"
   ]
  },
  {
   "cell_type": "code",
   "execution_count": 11,
   "metadata": {},
   "outputs": [],
   "source": [
    "df_individuals = pd.read_csv('../data/empirical_data/prior_research.csv')\n",
    "df_tasks = pd.read_csv('../data/empirical_data/prior_tasks_with_omega.csv')\n",
    "df_groups = pd.read_csv('../data/empirical_data/prior_research_group.csv')"
   ]
  },
  {
   "cell_type": "code",
   "execution_count": 29,
   "metadata": {},
   "outputs": [
    {
     "name": "stdout",
     "output_type": "stream",
     "text": [
      "There are 4002 participant\n",
      "from 4 studies: ['lorenz2011' 'gurcay2015' 'becker2017' 'becker2019']\n",
      "Organized in 111 groups\n",
      "Total individual estimations 20030\n",
      "Total groups estimations 815\n",
      "Total tasks 57\n"
     ]
    }
   ],
   "source": [
    "print(\"There are\", len(df_individuals.subject_id.unique()),\"participant\")\n",
    "print(\"from\", len(df_individuals.study.unique()),\"studies:\",df_individuals.study.unique())\n",
    "print(\"Organized in\", len(df_individuals.group_id.unique()),\"groups\")\n",
    "print(\"Total individual estimations\", len(df_individuals),)\n",
    "print(\"Total groups estimations\", len(df_groups.group_task.unique()))\n",
    "print(\"Total tasks\", len(df_tasks.task_id.unique()))"
   ]
  },
  {
   "cell_type": "code",
   "execution_count": 24,
   "metadata": {},
   "outputs": [
    {
     "name": "stdout",
     "output_type": "stream",
     "text": [
      "total groups with social influence 86 groups\n"
     ]
    }
   ],
   "source": [
    "print(\"total groups with social influence\", len(df_individuals[df_individuals.influence==1].group_id.unique()),\"groups\")"
   ]
  },
  {
   "cell_type": "code",
   "execution_count": 28,
   "metadata": {},
   "outputs": [
    {
     "name": "stdout",
     "output_type": "stream",
     "text": [
      "total groups with social influence 137 groups\n"
     ]
    }
   ],
   "source": [
    "print(\"total groups with social influence\", len(df_groups[df_groups.influence==0]),\"groups\")"
   ]
  },
  {
   "cell_type": "code",
   "execution_count": null,
   "metadata": {},
   "outputs": [],
   "source": []
  }
 ],
 "metadata": {
  "kernelspec": {
   "display_name": "Python 3",
   "language": "python",
   "name": "python3"
  },
  "language_info": {
   "codemirror_mode": {
    "name": "ipython",
    "version": 3
   },
   "file_extension": ".py",
   "mimetype": "text/x-python",
   "name": "python",
   "nbconvert_exporter": "python",
   "pygments_lexer": "ipython3",
   "version": "3.7.6"
  }
 },
 "nbformat": 4,
 "nbformat_minor": 4
}
