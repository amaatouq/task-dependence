{
 "cells": [
  {
   "cell_type": "code",
   "execution_count": 1,
   "metadata": {},
   "outputs": [],
   "source": [
    "import pandas as pd\n",
    "import warnings\n",
    "warnings.filterwarnings('ignore')"
   ]
  },
  {
   "cell_type": "code",
   "execution_count": 2,
   "metadata": {},
   "outputs": [],
   "source": [
    "df_lorenz2011 = pd.read_csv('../data/prior_research_data/lorenz2011.csv')\n",
    "df_gurcay2015 = pd.read_csv('../data/prior_research_data/gurcay2015.csv')\n",
    "df_becker2017 = pd.read_csv('../data/prior_research_data/becker2017.csv')\n",
    "df_becker2019 = pd.read_csv('../data/prior_research_data/becker2019.csv')"
   ]
  },
  {
   "cell_type": "markdown",
   "metadata": {},
   "source": [
    "# Preparing Lorenz 2011"
   ]
  },
  {
   "cell_type": "code",
   "execution_count": 3,
   "metadata": {},
   "outputs": [],
   "source": [
    "df_lorenz2011['study'] = \"lorenz2011\"\n",
    "df_lorenz2011['influence'] = 0\n",
    "df_lorenz2011['group_id'] = df_lorenz2011['session']\n",
    "df_lorenz2011.loc[(df_lorenz2011.network != 'Solo'),'influence']= 1\n",
    "df_lorenz2011['theta'] = df_lorenz2011['truth'].astype(int)\n",
    "df_lorenz2011['pre_influence'] = df_lorenz2011['response_1']\n",
    "df_lorenz2011['post_influence'] = df_lorenz2011['response_5']\n",
    "df_lorenz2011['subject_id'] = df_lorenz2011['subject_id'].astype(str)+\"_\"+df_lorenz2011['session'].astype(str)\n",
    "df_lorenz2011['task_id'] = \"lorenz2017_task_\"+df_lorenz2011['truth'].astype(str)\n",
    "df_lorenz2011['original_condition'] = df_lorenz2011['network']"
   ]
  },
  {
   "cell_type": "markdown",
   "metadata": {},
   "source": [
    "# Preparing Gurcay 2015"
   ]
  },
  {
   "cell_type": "code",
   "execution_count": 4,
   "metadata": {},
   "outputs": [],
   "source": [
    "df_gurcay2015['study'] = \"gurcay2015\"\n",
    "df_gurcay2015['influence'] = 0\n",
    "df_gurcay2015['group_id'] = df_gurcay2015['group'].astype(str)+'_'+df_gurcay2015['study'].astype(str)\n",
    "df_gurcay2015.loc[(df_gurcay2015.condition != 'C'),'influence']= 1\n",
    "df_gurcay2015['theta'] = df_gurcay2015['true values'].astype(int)\n",
    "df_gurcay2015['pre_influence'] = df_gurcay2015['est1']\n",
    "df_gurcay2015['post_influence'] = df_gurcay2015['est2']\n",
    "df_gurcay2015['subject_id'] = df_gurcay2015['subject.no'].astype(str)+\"_\"+df_gurcay2015['group'].astype(str)\n",
    "df_gurcay2015['task_id'] = \"gurcay2015_task_\"+df_gurcay2015['question.no'].astype(str)+\"_\"+df_gurcay2015['true values'].astype(str)\n",
    "df_gurcay2015['original_condition'] = df_gurcay2015['condition']"
   ]
  },
  {
   "cell_type": "markdown",
   "metadata": {},
   "source": [
    "# Preparing Becker 2017"
   ]
  },
  {
   "cell_type": "code",
   "execution_count": 5,
   "metadata": {},
   "outputs": [],
   "source": [
    "df_becker2017['study'] = \"becker2017\"\n",
    "df_becker2017['influence'] = 0\n",
    "df_becker2017['group_id'] = df_becker2017['group_number'].astype(str)+'_'+df_becker2017['study'].astype(str)\n",
    "df_becker2017.loc[(df_becker2017.network != 'Solo'),'influence']= 1\n",
    "df_becker2017['theta'] = df_becker2017['truth'].astype(int)\n",
    "df_becker2017['pre_influence'] = df_becker2017['response_1']\n",
    "df_becker2017['post_influence'] = df_becker2017['response_3']\n",
    "df_becker2017['subject_id'] = df_becker2017['subject_id'].astype(str)+\"_\"+df_becker2017['group_number'].astype(str)\n",
    "df_becker2017['task_id'] = \"df_becker2017_\"+df_becker2017['truth'].astype(str) #Becker has multiple ids for the same task. best to use the truth\n",
    "df_becker2017['original_condition'] = df_becker2017['network']"
   ]
  },
  {
   "cell_type": "markdown",
   "metadata": {},
   "source": [
    "# Preparing Becker 2019"
   ]
  },
  {
   "cell_type": "code",
   "execution_count": 6,
   "metadata": {},
   "outputs": [],
   "source": [
    "df_becker2019['study'] = \"becker2019\"\n",
    "df_becker2019['influence'] = 0\n",
    "df_becker2019['group_id'] = df_becker2019['set'].astype(str)+\"_\"+df_becker2019['pair_id'].astype(str)+\"_\"+df_becker2019['network'].astype(str)+\"_\"+df_becker2019['experiment'].astype(str)+\"_\"+df_becker2019['party'].astype(str)+'_'+df_becker2019['study'].astype(str)\n",
    "df_becker2019.loc[(df_becker2019.network != 'Control'),'influence']= 1\n",
    "df_becker2019['theta'] = df_becker2019['truth'].astype(int)\n",
    "df_becker2019['pre_influence'] = df_becker2019['response_1']\n",
    "df_becker2019['post_influence'] = df_becker2019['response_3']\n",
    "df_becker2019['subject_id'] = df_becker2019['user_id'].astype(str)+\"_\"+df_becker2019['group_id'].astype(str)\n",
    "df_becker2019['task_id'] = \"df_becker2019_\"+df_becker2019['q'].astype(str) \n",
    "df_becker2019['original_condition'] = df_becker2019['network']"
   ]
  },
  {
   "cell_type": "markdown",
   "metadata": {},
   "source": [
    "# Merging all of the datasets"
   ]
  },
  {
   "cell_type": "code",
   "execution_count": 7,
   "metadata": {},
   "outputs": [
    {
     "data": {
      "text/html": [
       "<div>\n",
       "<style scoped>\n",
       "    .dataframe tbody tr th:only-of-type {\n",
       "        vertical-align: middle;\n",
       "    }\n",
       "\n",
       "    .dataframe tbody tr th {\n",
       "        vertical-align: top;\n",
       "    }\n",
       "\n",
       "    .dataframe thead th {\n",
       "        text-align: right;\n",
       "    }\n",
       "</style>\n",
       "<table border=\"1\" class=\"dataframe\">\n",
       "  <thead>\n",
       "    <tr style=\"text-align: right;\">\n",
       "      <th></th>\n",
       "      <th>study</th>\n",
       "      <th>influence</th>\n",
       "      <th>group_id</th>\n",
       "      <th>theta</th>\n",
       "      <th>pre_influence</th>\n",
       "      <th>post_influence</th>\n",
       "      <th>subject_id</th>\n",
       "      <th>task_id</th>\n",
       "      <th>original_condition</th>\n",
       "      <th>group_task</th>\n",
       "    </tr>\n",
       "  </thead>\n",
       "  <tbody>\n",
       "    <tr>\n",
       "      <th>0</th>\n",
       "      <td>lorenz2011</td>\n",
       "      <td>0</td>\n",
       "      <td>081111_1557</td>\n",
       "      <td>184</td>\n",
       "      <td>430.0</td>\n",
       "      <td>422.0</td>\n",
       "      <td>1_081111_1557</td>\n",
       "      <td>lorenz2017_task_184</td>\n",
       "      <td>Solo</td>\n",
       "      <td>081111_1557_lorenz2017_task_184</td>\n",
       "    </tr>\n",
       "    <tr>\n",
       "      <th>1</th>\n",
       "      <td>lorenz2011</td>\n",
       "      <td>0</td>\n",
       "      <td>081111_1557</td>\n",
       "      <td>184</td>\n",
       "      <td>520.0</td>\n",
       "      <td>22.0</td>\n",
       "      <td>2_081111_1557</td>\n",
       "      <td>lorenz2017_task_184</td>\n",
       "      <td>Solo</td>\n",
       "      <td>081111_1557_lorenz2017_task_184</td>\n",
       "    </tr>\n",
       "    <tr>\n",
       "      <th>2</th>\n",
       "      <td>lorenz2011</td>\n",
       "      <td>0</td>\n",
       "      <td>081111_1557</td>\n",
       "      <td>184</td>\n",
       "      <td>50.0</td>\n",
       "      <td>4.0</td>\n",
       "      <td>3_081111_1557</td>\n",
       "      <td>lorenz2017_task_184</td>\n",
       "      <td>Solo</td>\n",
       "      <td>081111_1557_lorenz2017_task_184</td>\n",
       "    </tr>\n",
       "    <tr>\n",
       "      <th>3</th>\n",
       "      <td>lorenz2011</td>\n",
       "      <td>0</td>\n",
       "      <td>081111_1557</td>\n",
       "      <td>184</td>\n",
       "      <td>15.0</td>\n",
       "      <td>10.0</td>\n",
       "      <td>4_081111_1557</td>\n",
       "      <td>lorenz2017_task_184</td>\n",
       "      <td>Solo</td>\n",
       "      <td>081111_1557_lorenz2017_task_184</td>\n",
       "    </tr>\n",
       "    <tr>\n",
       "      <th>4</th>\n",
       "      <td>lorenz2011</td>\n",
       "      <td>0</td>\n",
       "      <td>081111_1557</td>\n",
       "      <td>184</td>\n",
       "      <td>1750.0</td>\n",
       "      <td>1650.0</td>\n",
       "      <td>5_081111_1557</td>\n",
       "      <td>lorenz2017_task_184</td>\n",
       "      <td>Solo</td>\n",
       "      <td>081111_1557_lorenz2017_task_184</td>\n",
       "    </tr>\n",
       "    <tr>\n",
       "      <th>...</th>\n",
       "      <td>...</td>\n",
       "      <td>...</td>\n",
       "      <td>...</td>\n",
       "      <td>...</td>\n",
       "      <td>...</td>\n",
       "      <td>...</td>\n",
       "      <td>...</td>\n",
       "      <td>...</td>\n",
       "      <td>...</td>\n",
       "      <td>...</td>\n",
       "    </tr>\n",
       "    <tr>\n",
       "      <th>8816</th>\n",
       "      <td>becker2019</td>\n",
       "      <td>1</td>\n",
       "      <td>C_3_Social_2_Repub_becker2019</td>\n",
       "      <td>4486</td>\n",
       "      <td>2000.0</td>\n",
       "      <td>2000.0</td>\n",
       "      <td>1085_C_3_Social_2_Repub_becker2019</td>\n",
       "      <td>df_becker2019_Soldiers</td>\n",
       "      <td>Social</td>\n",
       "      <td>C_3_Social_2_Repub_becker2019_df_becker2019_So...</td>\n",
       "    </tr>\n",
       "    <tr>\n",
       "      <th>8817</th>\n",
       "      <td>becker2019</td>\n",
       "      <td>1</td>\n",
       "      <td>C_3_Social_2_Repub_becker2019</td>\n",
       "      <td>4486</td>\n",
       "      <td>250000.0</td>\n",
       "      <td>14000.0</td>\n",
       "      <td>1100_C_3_Social_2_Repub_becker2019</td>\n",
       "      <td>df_becker2019_Soldiers</td>\n",
       "      <td>Social</td>\n",
       "      <td>C_3_Social_2_Repub_becker2019_df_becker2019_So...</td>\n",
       "    </tr>\n",
       "    <tr>\n",
       "      <th>8818</th>\n",
       "      <td>becker2019</td>\n",
       "      <td>1</td>\n",
       "      <td>C_3_Social_2_Repub_becker2019</td>\n",
       "      <td>-46</td>\n",
       "      <td>70.0</td>\n",
       "      <td>NaN</td>\n",
       "      <td>1100_C_3_Social_2_Repub_becker2019</td>\n",
       "      <td>df_becker2019_Unemployment</td>\n",
       "      <td>Social</td>\n",
       "      <td>C_3_Social_2_Repub_becker2019_df_becker2019_Un...</td>\n",
       "    </tr>\n",
       "    <tr>\n",
       "      <th>8819</th>\n",
       "      <td>becker2019</td>\n",
       "      <td>1</td>\n",
       "      <td>C_3_Social_2_Repub_becker2019</td>\n",
       "      <td>15</td>\n",
       "      <td>20.0</td>\n",
       "      <td>16.0</td>\n",
       "      <td>1111_C_3_Social_2_Repub_becker2019</td>\n",
       "      <td>df_becker2019_Military</td>\n",
       "      <td>Social</td>\n",
       "      <td>C_3_Social_2_Repub_becker2019_df_becker2019_Mi...</td>\n",
       "    </tr>\n",
       "    <tr>\n",
       "      <th>8820</th>\n",
       "      <td>becker2019</td>\n",
       "      <td>1</td>\n",
       "      <td>C_3_Social_2_Repub_becker2019</td>\n",
       "      <td>-46</td>\n",
       "      <td>10.0</td>\n",
       "      <td>10.0</td>\n",
       "      <td>1085_C_3_Social_2_Repub_becker2019</td>\n",
       "      <td>df_becker2019_Unemployment</td>\n",
       "      <td>Social</td>\n",
       "      <td>C_3_Social_2_Repub_becker2019_df_becker2019_Un...</td>\n",
       "    </tr>\n",
       "  </tbody>\n",
       "</table>\n",
       "<p>20030 rows × 10 columns</p>\n",
       "</div>"
      ],
      "text/plain": [
       "           study  influence                       group_id  theta  \\\n",
       "0     lorenz2011          0                    081111_1557    184   \n",
       "1     lorenz2011          0                    081111_1557    184   \n",
       "2     lorenz2011          0                    081111_1557    184   \n",
       "3     lorenz2011          0                    081111_1557    184   \n",
       "4     lorenz2011          0                    081111_1557    184   \n",
       "...          ...        ...                            ...    ...   \n",
       "8816  becker2019          1  C_3_Social_2_Repub_becker2019   4486   \n",
       "8817  becker2019          1  C_3_Social_2_Repub_becker2019   4486   \n",
       "8818  becker2019          1  C_3_Social_2_Repub_becker2019    -46   \n",
       "8819  becker2019          1  C_3_Social_2_Repub_becker2019     15   \n",
       "8820  becker2019          1  C_3_Social_2_Repub_becker2019    -46   \n",
       "\n",
       "      pre_influence  post_influence                          subject_id  \\\n",
       "0             430.0           422.0                       1_081111_1557   \n",
       "1             520.0            22.0                       2_081111_1557   \n",
       "2              50.0             4.0                       3_081111_1557   \n",
       "3              15.0            10.0                       4_081111_1557   \n",
       "4            1750.0          1650.0                       5_081111_1557   \n",
       "...             ...             ...                                 ...   \n",
       "8816         2000.0          2000.0  1085_C_3_Social_2_Repub_becker2019   \n",
       "8817       250000.0         14000.0  1100_C_3_Social_2_Repub_becker2019   \n",
       "8818           70.0             NaN  1100_C_3_Social_2_Repub_becker2019   \n",
       "8819           20.0            16.0  1111_C_3_Social_2_Repub_becker2019   \n",
       "8820           10.0            10.0  1085_C_3_Social_2_Repub_becker2019   \n",
       "\n",
       "                         task_id original_condition  \\\n",
       "0            lorenz2017_task_184               Solo   \n",
       "1            lorenz2017_task_184               Solo   \n",
       "2            lorenz2017_task_184               Solo   \n",
       "3            lorenz2017_task_184               Solo   \n",
       "4            lorenz2017_task_184               Solo   \n",
       "...                          ...                ...   \n",
       "8816      df_becker2019_Soldiers             Social   \n",
       "8817      df_becker2019_Soldiers             Social   \n",
       "8818  df_becker2019_Unemployment             Social   \n",
       "8819      df_becker2019_Military             Social   \n",
       "8820  df_becker2019_Unemployment             Social   \n",
       "\n",
       "                                             group_task  \n",
       "0                       081111_1557_lorenz2017_task_184  \n",
       "1                       081111_1557_lorenz2017_task_184  \n",
       "2                       081111_1557_lorenz2017_task_184  \n",
       "3                       081111_1557_lorenz2017_task_184  \n",
       "4                       081111_1557_lorenz2017_task_184  \n",
       "...                                                 ...  \n",
       "8816  C_3_Social_2_Repub_becker2019_df_becker2019_So...  \n",
       "8817  C_3_Social_2_Repub_becker2019_df_becker2019_So...  \n",
       "8818  C_3_Social_2_Repub_becker2019_df_becker2019_Un...  \n",
       "8819  C_3_Social_2_Repub_becker2019_df_becker2019_Mi...  \n",
       "8820  C_3_Social_2_Repub_becker2019_df_becker2019_Un...  \n",
       "\n",
       "[20030 rows x 10 columns]"
      ]
     },
     "execution_count": 7,
     "metadata": {},
     "output_type": "execute_result"
    }
   ],
   "source": [
    "columns = ['study', 'influence', 'group_id', 'theta', 'pre_influence', 'post_influence',\n",
    "           'subject_id', 'task_id', 'original_condition']\n",
    "df_prior_work = df_lorenz2011.append(df_gurcay2015).append(df_becker2017).append(df_becker2019)\n",
    "df_prior_work = df_prior_work[columns]\n",
    "df_prior_work['group_task'] = df_prior_work['group_id'].astype(str)+'_'+df_prior_work['task_id'].astype(str)\n",
    "\n",
    "#df_prior_work['valid'] = (~df_prior_work['pre_influence'].isnull()  ~df_prior_work['post_influence'].isnull())\n",
    "df_prior_work.to_csv('../data/empirical_data/prior_research.csv',index=False)\n",
    "df_prior_work"
   ]
  },
  {
   "cell_type": "code",
   "execution_count": 8,
   "metadata": {},
   "outputs": [
    {
     "name": "stdout",
     "output_type": "stream",
     "text": [
      "Study lorenz2011\n",
      "individuals 144\n",
      "tasks 6\n",
      "groups 12\n",
      "trials 71\n",
      "##########\n",
      "Study gurcay2015\n",
      "individuals 278\n",
      "tasks 16\n",
      "groups 21\n",
      "trials 336\n",
      "##########\n",
      "Study becker2017\n",
      "individuals 1360\n",
      "tasks 28\n",
      "groups 34\n",
      "trials 152\n",
      "##########\n",
      "Study becker2019\n",
      "individuals 2220\n",
      "tasks 7\n",
      "groups 64\n",
      "trials 256\n",
      "##########\n"
     ]
    }
   ],
   "source": [
    "for study in df_prior_work.study.unique():\n",
    "    df_study = df_prior_work[df_prior_work.study==study]\n",
    "    print('Study', study)\n",
    "    print('individuals', len(df_study.subject_id.unique()))\n",
    "    print('tasks', len(df_study.task_id.unique()))\n",
    "    print('groups', len(df_study.group_id.unique()))\n",
    "    print('trials', len(df_study.group_task.unique()))\n",
    "    print(\"##########\")"
   ]
  },
  {
   "cell_type": "code",
   "execution_count": 9,
   "metadata": {},
   "outputs": [
    {
     "name": "stdout",
     "output_type": "stream",
     "text": [
      "individuals 4002\n"
     ]
    }
   ],
   "source": [
    "print('individuals', len(df_prior_work.subject_id.unique()))"
   ]
  },
  {
   "cell_type": "code",
   "execution_count": 10,
   "metadata": {},
   "outputs": [
    {
     "name": "stdout",
     "output_type": "stream",
     "text": [
      "gruops 131\n"
     ]
    }
   ],
   "source": [
    "print('gruops', len(df_prior_work.group_id.unique()))"
   ]
  },
  {
   "cell_type": "code",
   "execution_count": 13,
   "metadata": {},
   "outputs": [
    {
     "name": "stdout",
     "output_type": "stream",
     "text": [
      "gruops 57\n"
     ]
    }
   ],
   "source": [
    "print('gruops', len(df_prior_work.task_id.unique()))"
   ]
  },
  {
   "cell_type": "code",
   "execution_count": 11,
   "metadata": {},
   "outputs": [
    {
     "name": "stdout",
     "output_type": "stream",
     "text": [
      "group_task 815\n"
     ]
    }
   ],
   "source": [
    "print('group_task', len(df_prior_work.group_task.unique()))"
   ]
  },
  {
   "cell_type": "code",
   "execution_count": 12,
   "metadata": {},
   "outputs": [
    {
     "name": "stdout",
     "output_type": "stream",
     "text": [
      "group_task with social influence 678\n"
     ]
    }
   ],
   "source": [
    "print('group_task with social influence', len(df_prior_work[df_prior_work.influence==1].group_task.unique()))"
   ]
  },
  {
   "cell_type": "code",
   "execution_count": null,
   "metadata": {},
   "outputs": [],
   "source": []
  },
  {
   "cell_type": "code",
   "execution_count": null,
   "metadata": {},
   "outputs": [],
   "source": []
  }
 ],
 "metadata": {
  "kernelspec": {
   "display_name": "Python 3",
   "language": "python",
   "name": "python3"
  },
  "language_info": {
   "codemirror_mode": {
    "name": "ipython",
    "version": 3
   },
   "file_extension": ".py",
   "mimetype": "text/x-python",
   "name": "python",
   "nbconvert_exporter": "python",
   "pygments_lexer": "ipython3",
   "version": "3.7.6"
  }
 },
 "nbformat": 4,
 "nbformat_minor": 2
}
