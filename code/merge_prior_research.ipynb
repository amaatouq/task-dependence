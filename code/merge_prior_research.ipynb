{
 "cells": [
  {
   "cell_type": "code",
   "execution_count": 1,
   "metadata": {},
   "outputs": [],
   "source": [
    "import pandas as pd\n",
    "import warnings\n",
    "warnings.filterwarnings('ignore')"
   ]
  },
  {
   "cell_type": "code",
   "execution_count": 4,
   "metadata": {},
   "outputs": [],
   "source": [
    "df_lorenz2011 = pd.read_csv('../data/prior_research_data/lorenz2011.csv')\n",
    "df_gurcay2015 = pd.read_csv('../data/prior_research_data/gurcay2015.csv')\n",
    "df_becker2017 = pd.read_csv('../data/prior_research_data/becker2017.csv')\n",
    "df_becker2019 = pd.read_csv('../data/prior_research_data/becker2019.csv')"
   ]
  },
  {
   "cell_type": "markdown",
   "metadata": {},
   "source": [
    "# Preparing Lorenz 2011"
   ]
  },
  {
   "cell_type": "code",
   "execution_count": 5,
   "metadata": {},
   "outputs": [],
   "source": [
    "df_lorenz2011['study'] = \"lorenz2011\"\n",
    "df_lorenz2011['influence'] = 0\n",
    "df_lorenz2011['group_id'] = df_lorenz2011['session']\n",
    "df_lorenz2011.loc[(df_lorenz2011.network != 'Solo'),'influence']= 1\n",
    "df_lorenz2011['theta'] = df_lorenz2011['truth'].astype(int)\n",
    "df_lorenz2011['pre_influence'] = df_lorenz2011['response_1']\n",
    "df_lorenz2011['post_influence'] = df_lorenz2011['response_5']\n",
    "df_lorenz2011['subject_id'] = df_lorenz2011['subject_id'].astype(str)+\"_\"+df_lorenz2011['session'].astype(str)\n",
    "df_lorenz2011['task_id'] = \"lorenz2017_task_\"+df_lorenz2011['truth'].astype(str)\n",
    "df_lorenz2011['original_condition'] = df_lorenz2011['network']"
   ]
  },
  {
   "cell_type": "markdown",
   "metadata": {},
   "source": [
    "# Preparing Gurcay 2015"
   ]
  },
  {
   "cell_type": "code",
   "execution_count": 6,
   "metadata": {},
   "outputs": [],
   "source": [
    "df_gurcay2015['study'] = \"gurcay2015\"\n",
    "df_gurcay2015['influence'] = 0\n",
    "df_gurcay2015['group_id'] = df_gurcay2015['group'].astype(str)+'_'+df_gurcay2015['study'].astype(str)\n",
    "df_gurcay2015.loc[(df_gurcay2015.condition != 'C'),'influence']= 1\n",
    "df_gurcay2015['theta'] = df_gurcay2015['true values'].astype(int)\n",
    "df_gurcay2015['pre_influence'] = df_gurcay2015['est1']\n",
    "df_gurcay2015['post_influence'] = df_gurcay2015['est2']\n",
    "df_gurcay2015['subject_id'] = df_gurcay2015['subject.no'].astype(str)+\"_\"+df_gurcay2015['group'].astype(str)\n",
    "df_gurcay2015['task_id'] = \"gurcay2015_task_\"+df_gurcay2015['question.no'].astype(str)+\"_\"+df_gurcay2015['true values'].astype(str)\n",
    "df_gurcay2015['original_condition'] = df_gurcay2015['condition']"
   ]
  },
  {
   "cell_type": "markdown",
   "metadata": {},
   "source": [
    "# Preparing Becker 2017"
   ]
  },
  {
   "cell_type": "code",
   "execution_count": 7,
   "metadata": {},
   "outputs": [],
   "source": [
    "df_becker2017['study'] = \"becker2017\"\n",
    "df_becker2017['influence'] = 0\n",
    "df_becker2017['group_id'] = df_becker2017['group_number'].astype(str)+'_'+df_becker2017['study'].astype(str)\n",
    "df_becker2017.loc[(df_becker2017.network != 'Solo'),'influence']= 1\n",
    "df_becker2017['theta'] = df_becker2017['truth'].astype(int)\n",
    "df_becker2017['pre_influence'] = df_becker2017['response_1']\n",
    "df_becker2017['post_influence'] = df_becker2017['response_3']\n",
    "df_becker2017['subject_id'] = df_becker2017['subject_id'].astype(str)+\"_\"+df_becker2017['group_number'].astype(str)\n",
    "df_becker2017['task_id'] = \"df_becker2017_\"+df_becker2017['truth'].astype(str) #Becker has multiple ids for the same task. best to use the truth\n",
    "df_becker2017['original_condition'] = df_becker2017['network']"
   ]
  },
  {
   "cell_type": "markdown",
   "metadata": {},
   "source": [
    "# Preparing Becker 2019"
   ]
  },
  {
   "cell_type": "code",
   "execution_count": 8,
   "metadata": {},
   "outputs": [],
   "source": [
    "df_becker2019['study'] = \"becker2019\"\n",
    "df_becker2019['influence'] = 0\n",
    "df_becker2019['group_id'] = df_becker2019['set'].astype(str)+\"_\"+df_becker2019['pair_id'].astype(str)+\"_\"+df_becker2019['network'].astype(str)+\"_\"+df_becker2019['experiment'].astype(str)+\"_\"+df_becker2019['party'].astype(str)+'_'+df_becker2019['study'].astype(str)\n",
    "df_becker2019.loc[(df_becker2019.network != 'Control'),'influence']= 1\n",
    "df_becker2019['theta'] = df_becker2019['truth'].astype(int)\n",
    "df_becker2019['pre_influence'] = df_becker2019['response_1']\n",
    "df_becker2019['post_influence'] = df_becker2019['response_3']\n",
    "df_becker2019['subject_id'] = df_becker2019['user_id'].astype(str)+\"_\"+df_becker2019['group_id'].astype(str)\n",
    "df_becker2019['task_id'] = \"df_becker2019_\"+df_becker2019['q'].astype(str) \n",
    "df_becker2019['original_condition'] = df_becker2019['network']"
   ]
  },
  {
   "cell_type": "markdown",
   "metadata": {},
   "source": [
    "One task id (`df_becker2019_Unemployment`) has two thetas listed in dataset. We just want obs where theta = 4, and remove those where theta = -46"
   ]
  },
  {
   "cell_type": "code",
   "execution_count": 9,
   "metadata": {},
   "outputs": [],
   "source": [
    "df_becker2019 = df_becker2019[(df_becker2019['theta'] != -46)]"
   ]
  },
  {
   "cell_type": "markdown",
   "metadata": {},
   "source": [
    "Removing tasks with negative pre-influence estimates"
   ]
  },
  {
   "cell_type": "code",
   "execution_count": 10,
   "metadata": {},
   "outputs": [],
   "source": [
    "df_becker2019 = df_becker2019[(df_becker2019['task_id']!='df_becker2019_Immigration') & \n",
    "                              (df_becker2019['task_id']!='df_becker2019_Military') &\n",
    "                              (df_becker2019['task_id']!='df_becker2019_Soldiers')]"
   ]
  },
  {
   "cell_type": "markdown",
   "metadata": {},
   "source": [
    "# Merging all of the datasets"
   ]
  },
  {
   "cell_type": "code",
   "execution_count": 11,
   "metadata": {},
   "outputs": [
    {
     "data": {
      "text/html": [
       "<div>\n",
       "<style scoped>\n",
       "    .dataframe tbody tr th:only-of-type {\n",
       "        vertical-align: middle;\n",
       "    }\n",
       "\n",
       "    .dataframe tbody tr th {\n",
       "        vertical-align: top;\n",
       "    }\n",
       "\n",
       "    .dataframe thead th {\n",
       "        text-align: right;\n",
       "    }\n",
       "</style>\n",
       "<table border=\"1\" class=\"dataframe\">\n",
       "  <thead>\n",
       "    <tr style=\"text-align: right;\">\n",
       "      <th></th>\n",
       "      <th>study</th>\n",
       "      <th>influence</th>\n",
       "      <th>group_id</th>\n",
       "      <th>theta</th>\n",
       "      <th>pre_influence</th>\n",
       "      <th>post_influence</th>\n",
       "      <th>subject_id</th>\n",
       "      <th>task_id</th>\n",
       "      <th>original_condition</th>\n",
       "      <th>group_task</th>\n",
       "    </tr>\n",
       "  </thead>\n",
       "  <tbody>\n",
       "    <tr>\n",
       "      <td>0</td>\n",
       "      <td>lorenz2011</td>\n",
       "      <td>0</td>\n",
       "      <td>081111_1557</td>\n",
       "      <td>184</td>\n",
       "      <td>430.0</td>\n",
       "      <td>422.0</td>\n",
       "      <td>1_081111_1557</td>\n",
       "      <td>lorenz2017_task_184</td>\n",
       "      <td>Solo</td>\n",
       "      <td>081111_1557_lorenz2017_task_184</td>\n",
       "    </tr>\n",
       "    <tr>\n",
       "      <td>1</td>\n",
       "      <td>lorenz2011</td>\n",
       "      <td>0</td>\n",
       "      <td>081111_1557</td>\n",
       "      <td>184</td>\n",
       "      <td>520.0</td>\n",
       "      <td>22.0</td>\n",
       "      <td>2_081111_1557</td>\n",
       "      <td>lorenz2017_task_184</td>\n",
       "      <td>Solo</td>\n",
       "      <td>081111_1557_lorenz2017_task_184</td>\n",
       "    </tr>\n",
       "    <tr>\n",
       "      <td>2</td>\n",
       "      <td>lorenz2011</td>\n",
       "      <td>0</td>\n",
       "      <td>081111_1557</td>\n",
       "      <td>184</td>\n",
       "      <td>50.0</td>\n",
       "      <td>4.0</td>\n",
       "      <td>3_081111_1557</td>\n",
       "      <td>lorenz2017_task_184</td>\n",
       "      <td>Solo</td>\n",
       "      <td>081111_1557_lorenz2017_task_184</td>\n",
       "    </tr>\n",
       "    <tr>\n",
       "      <td>3</td>\n",
       "      <td>lorenz2011</td>\n",
       "      <td>0</td>\n",
       "      <td>081111_1557</td>\n",
       "      <td>184</td>\n",
       "      <td>15.0</td>\n",
       "      <td>10.0</td>\n",
       "      <td>4_081111_1557</td>\n",
       "      <td>lorenz2017_task_184</td>\n",
       "      <td>Solo</td>\n",
       "      <td>081111_1557_lorenz2017_task_184</td>\n",
       "    </tr>\n",
       "    <tr>\n",
       "      <td>4</td>\n",
       "      <td>lorenz2011</td>\n",
       "      <td>0</td>\n",
       "      <td>081111_1557</td>\n",
       "      <td>184</td>\n",
       "      <td>1750.0</td>\n",
       "      <td>1650.0</td>\n",
       "      <td>5_081111_1557</td>\n",
       "      <td>lorenz2017_task_184</td>\n",
       "      <td>Solo</td>\n",
       "      <td>081111_1557_lorenz2017_task_184</td>\n",
       "    </tr>\n",
       "    <tr>\n",
       "      <td>...</td>\n",
       "      <td>...</td>\n",
       "      <td>...</td>\n",
       "      <td>...</td>\n",
       "      <td>...</td>\n",
       "      <td>...</td>\n",
       "      <td>...</td>\n",
       "      <td>...</td>\n",
       "      <td>...</td>\n",
       "      <td>...</td>\n",
       "      <td>...</td>\n",
       "    </tr>\n",
       "    <tr>\n",
       "      <td>4348</td>\n",
       "      <td>becker2019</td>\n",
       "      <td>1</td>\n",
       "      <td>C_3_Social_1_Dem_becker2019</td>\n",
       "      <td>4</td>\n",
       "      <td>6.0</td>\n",
       "      <td>6.0</td>\n",
       "      <td>589_C_3_Social_1_Dem_becker2019</td>\n",
       "      <td>df_becker2019_Unemployment</td>\n",
       "      <td>Social</td>\n",
       "      <td>C_3_Social_1_Dem_becker2019_df_becker2019_Unem...</td>\n",
       "    </tr>\n",
       "    <tr>\n",
       "      <td>4349</td>\n",
       "      <td>becker2019</td>\n",
       "      <td>1</td>\n",
       "      <td>C_3_Social_1_Dem_becker2019</td>\n",
       "      <td>14</td>\n",
       "      <td>12.0</td>\n",
       "      <td>12.0</td>\n",
       "      <td>596_C_3_Social_1_Dem_becker2019</td>\n",
       "      <td>df_becker2019_Taxes</td>\n",
       "      <td>Social</td>\n",
       "      <td>C_3_Social_1_Dem_becker2019_df_becker2019_Taxes</td>\n",
       "    </tr>\n",
       "    <tr>\n",
       "      <td>4350</td>\n",
       "      <td>becker2019</td>\n",
       "      <td>1</td>\n",
       "      <td>C_3_Social_1_Dem_becker2019</td>\n",
       "      <td>14</td>\n",
       "      <td>16.0</td>\n",
       "      <td>17.0</td>\n",
       "      <td>551_C_3_Social_1_Dem_becker2019</td>\n",
       "      <td>df_becker2019_Taxes</td>\n",
       "      <td>Social</td>\n",
       "      <td>C_3_Social_1_Dem_becker2019_df_becker2019_Taxes</td>\n",
       "    </tr>\n",
       "    <tr>\n",
       "      <td>4351</td>\n",
       "      <td>becker2019</td>\n",
       "      <td>1</td>\n",
       "      <td>C_3_Social_1_Dem_becker2019</td>\n",
       "      <td>224</td>\n",
       "      <td>320.0</td>\n",
       "      <td>260.0</td>\n",
       "      <td>598_C_3_Social_1_Dem_becker2019</td>\n",
       "      <td>df_becker2019_Election</td>\n",
       "      <td>Social</td>\n",
       "      <td>C_3_Social_1_Dem_becker2019_df_becker2019_Elec...</td>\n",
       "    </tr>\n",
       "    <tr>\n",
       "      <td>4352</td>\n",
       "      <td>becker2019</td>\n",
       "      <td>1</td>\n",
       "      <td>C_3_Social_1_Dem_becker2019</td>\n",
       "      <td>224</td>\n",
       "      <td>240.0</td>\n",
       "      <td>276.0</td>\n",
       "      <td>639_C_3_Social_1_Dem_becker2019</td>\n",
       "      <td>df_becker2019_Election</td>\n",
       "      <td>Social</td>\n",
       "      <td>C_3_Social_1_Dem_becker2019_df_becker2019_Elec...</td>\n",
       "    </tr>\n",
       "  </tbody>\n",
       "</table>\n",
       "<p>15562 rows × 10 columns</p>\n",
       "</div>"
      ],
      "text/plain": [
       "           study  influence                     group_id  theta  \\\n",
       "0     lorenz2011          0                  081111_1557    184   \n",
       "1     lorenz2011          0                  081111_1557    184   \n",
       "2     lorenz2011          0                  081111_1557    184   \n",
       "3     lorenz2011          0                  081111_1557    184   \n",
       "4     lorenz2011          0                  081111_1557    184   \n",
       "...          ...        ...                          ...    ...   \n",
       "4348  becker2019          1  C_3_Social_1_Dem_becker2019      4   \n",
       "4349  becker2019          1  C_3_Social_1_Dem_becker2019     14   \n",
       "4350  becker2019          1  C_3_Social_1_Dem_becker2019     14   \n",
       "4351  becker2019          1  C_3_Social_1_Dem_becker2019    224   \n",
       "4352  becker2019          1  C_3_Social_1_Dem_becker2019    224   \n",
       "\n",
       "      pre_influence  post_influence                       subject_id  \\\n",
       "0             430.0           422.0                    1_081111_1557   \n",
       "1             520.0            22.0                    2_081111_1557   \n",
       "2              50.0             4.0                    3_081111_1557   \n",
       "3              15.0            10.0                    4_081111_1557   \n",
       "4            1750.0          1650.0                    5_081111_1557   \n",
       "...             ...             ...                              ...   \n",
       "4348            6.0             6.0  589_C_3_Social_1_Dem_becker2019   \n",
       "4349           12.0            12.0  596_C_3_Social_1_Dem_becker2019   \n",
       "4350           16.0            17.0  551_C_3_Social_1_Dem_becker2019   \n",
       "4351          320.0           260.0  598_C_3_Social_1_Dem_becker2019   \n",
       "4352          240.0           276.0  639_C_3_Social_1_Dem_becker2019   \n",
       "\n",
       "                         task_id original_condition  \\\n",
       "0            lorenz2017_task_184               Solo   \n",
       "1            lorenz2017_task_184               Solo   \n",
       "2            lorenz2017_task_184               Solo   \n",
       "3            lorenz2017_task_184               Solo   \n",
       "4            lorenz2017_task_184               Solo   \n",
       "...                          ...                ...   \n",
       "4348  df_becker2019_Unemployment             Social   \n",
       "4349         df_becker2019_Taxes             Social   \n",
       "4350         df_becker2019_Taxes             Social   \n",
       "4351      df_becker2019_Election             Social   \n",
       "4352      df_becker2019_Election             Social   \n",
       "\n",
       "                                             group_task  \n",
       "0                       081111_1557_lorenz2017_task_184  \n",
       "1                       081111_1557_lorenz2017_task_184  \n",
       "2                       081111_1557_lorenz2017_task_184  \n",
       "3                       081111_1557_lorenz2017_task_184  \n",
       "4                       081111_1557_lorenz2017_task_184  \n",
       "...                                                 ...  \n",
       "4348  C_3_Social_1_Dem_becker2019_df_becker2019_Unem...  \n",
       "4349    C_3_Social_1_Dem_becker2019_df_becker2019_Taxes  \n",
       "4350    C_3_Social_1_Dem_becker2019_df_becker2019_Taxes  \n",
       "4351  C_3_Social_1_Dem_becker2019_df_becker2019_Elec...  \n",
       "4352  C_3_Social_1_Dem_becker2019_df_becker2019_Elec...  \n",
       "\n",
       "[15562 rows x 10 columns]"
      ]
     },
     "execution_count": 11,
     "metadata": {},
     "output_type": "execute_result"
    }
   ],
   "source": [
    "columns = ['study', 'influence', 'group_id', 'theta', 'pre_influence', 'post_influence',\n",
    "           'subject_id', 'task_id', 'original_condition']\n",
    "df_prior_work = df_lorenz2011.append(df_gurcay2015).append(df_becker2017).append(df_becker2019)\n",
    "df_prior_work = df_prior_work[columns]\n",
    "df_prior_work['group_task'] = df_prior_work['group_id'].astype(str)+'_'+df_prior_work['task_id'].astype(str)\n",
    "\n",
    "#df_prior_work['valid'] = (~df_prior_work['pre_influence'].isnull()  ~df_prior_work['post_influence'].isnull())\n",
    "df_prior_work.to_csv('./data/empirical_data/prior_research.csv',index=False)\n",
    "df_prior_work"
   ]
  },
  {
   "cell_type": "code",
   "execution_count": 12,
   "metadata": {},
   "outputs": [
    {
     "name": "stdout",
     "output_type": "stream",
     "text": [
      "Study lorenz2011\n",
      "individuals 144\n",
      "tasks 6\n",
      "groups 12\n",
      "trials 71\n",
      "##########\n",
      "Study gurcay2015\n",
      "individuals 278\n",
      "tasks 16\n",
      "groups 21\n",
      "trials 336\n",
      "##########\n",
      "Study becker2017\n",
      "individuals 1360\n",
      "tasks 28\n",
      "groups 34\n",
      "trials 152\n",
      "##########\n",
      "Study becker2019\n",
      "individuals 1103\n",
      "tasks 4\n",
      "groups 32\n",
      "trials 128\n",
      "##########\n"
     ]
    }
   ],
   "source": [
    "for study in df_prior_work.study.unique():\n",
    "    df_study = df_prior_work[df_prior_work.study==study]\n",
    "    print('Study', study)\n",
    "    print('individuals', len(df_study.subject_id.unique()))\n",
    "    print('tasks', len(df_study.task_id.unique()))\n",
    "    print('groups', len(df_study.group_id.unique()))\n",
    "    print('trials', len(df_study.group_task.unique()))\n",
    "    print(\"##########\")"
   ]
  },
  {
   "cell_type": "code",
   "execution_count": 13,
   "metadata": {},
   "outputs": [
    {
     "name": "stdout",
     "output_type": "stream",
     "text": [
      "individuals 2885\n"
     ]
    }
   ],
   "source": [
    "print('individuals', len(df_prior_work.subject_id.unique()))"
   ]
  },
  {
   "cell_type": "code",
   "execution_count": 14,
   "metadata": {},
   "outputs": [
    {
     "name": "stdout",
     "output_type": "stream",
     "text": [
      "groups 99\n"
     ]
    }
   ],
   "source": [
    "print('groups', len(df_prior_work.group_id.unique()))"
   ]
  },
  {
   "cell_type": "code",
   "execution_count": 15,
   "metadata": {},
   "outputs": [
    {
     "name": "stdout",
     "output_type": "stream",
     "text": [
      "tasks 54\n"
     ]
    }
   ],
   "source": [
    "print('tasks', len(df_prior_work.task_id.unique()))"
   ]
  },
  {
   "cell_type": "code",
   "execution_count": 16,
   "metadata": {},
   "outputs": [
    {
     "name": "stdout",
     "output_type": "stream",
     "text": [
      "group_task 687\n"
     ]
    }
   ],
   "source": [
    "print('group_task', len(df_prior_work.group_task.unique()))"
   ]
  },
  {
   "cell_type": "code",
   "execution_count": 17,
   "metadata": {},
   "outputs": [
    {
     "name": "stdout",
     "output_type": "stream",
     "text": [
      "group_task with social influence 582\n"
     ]
    }
   ],
   "source": [
    "print('group_task with social influence', len(df_prior_work[df_prior_work.influence==1].group_task.unique()))"
   ]
  },
  {
   "cell_type": "code",
   "execution_count": null,
   "metadata": {},
   "outputs": [],
   "source": []
  }
 ],
 "metadata": {
  "kernelspec": {
   "display_name": "Python 3",
   "language": "python",
   "name": "python3"
  },
  "language_info": {
   "codemirror_mode": {
    "name": "ipython",
    "version": 3
   },
   "file_extension": ".py",
   "mimetype": "text/x-python",
   "name": "python",
   "nbconvert_exporter": "python",
   "pygments_lexer": "ipython3",
   "version": "3.7.4"
  }
 },
 "nbformat": 4,
 "nbformat_minor": 2
}
